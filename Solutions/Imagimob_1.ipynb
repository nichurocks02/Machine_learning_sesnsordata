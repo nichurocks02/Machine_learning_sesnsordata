{
  "nbformat": 4,
  "nbformat_minor": 0,
  "metadata": {
    "colab": {
      "name": "Imagimob_1.ipynb",
      "provenance": []
    },
    "kernelspec": {
      "name": "python3",
      "display_name": "Python 3"
    }
  },
  "cells": [
    {
      "cell_type": "code",
      "metadata": {
        "id": "QOhjaxVKpFdM"
      },
      "source": [
        "#importing libraries\r\n",
        "import time\r\n",
        "import os \r\n",
        "import sys\r\n",
        "import io\r\n",
        "import pandas as pd\r\n",
        "from statistics import mean \r\n",
        "from statistics import stdev \r\n",
        "import numpy as np\r\n",
        "import matplotlib.pyplot as plt\r\n",
        "from matplotlib.pyplot import figure\r\n",
        "import sklearn\r\n",
        "from sklearn.cluster import KMeans\r\n",
        "from sklearn import preprocessing"
      ],
      "execution_count": 118,
      "outputs": []
    },
    {
      "cell_type": "code",
      "metadata": {
        "colab": {
          "resources": {
            "http://localhost:8080/nbextensions/google.colab/files.js": {
              "data": "Ly8gQ29weXJpZ2h0IDIwMTcgR29vZ2xlIExMQwovLwovLyBMaWNlbnNlZCB1bmRlciB0aGUgQXBhY2hlIExpY2Vuc2UsIFZlcnNpb24gMi4wICh0aGUgIkxpY2Vuc2UiKTsKLy8geW91IG1heSBub3QgdXNlIHRoaXMgZmlsZSBleGNlcHQgaW4gY29tcGxpYW5jZSB3aXRoIHRoZSBMaWNlbnNlLgovLyBZb3UgbWF5IG9idGFpbiBhIGNvcHkgb2YgdGhlIExpY2Vuc2UgYXQKLy8KLy8gICAgICBodHRwOi8vd3d3LmFwYWNoZS5vcmcvbGljZW5zZXMvTElDRU5TRS0yLjAKLy8KLy8gVW5sZXNzIHJlcXVpcmVkIGJ5IGFwcGxpY2FibGUgbGF3IG9yIGFncmVlZCB0byBpbiB3cml0aW5nLCBzb2Z0d2FyZQovLyBkaXN0cmlidXRlZCB1bmRlciB0aGUgTGljZW5zZSBpcyBkaXN0cmlidXRlZCBvbiBhbiAiQVMgSVMiIEJBU0lTLAovLyBXSVRIT1VUIFdBUlJBTlRJRVMgT1IgQ09ORElUSU9OUyBPRiBBTlkgS0lORCwgZWl0aGVyIGV4cHJlc3Mgb3IgaW1wbGllZC4KLy8gU2VlIHRoZSBMaWNlbnNlIGZvciB0aGUgc3BlY2lmaWMgbGFuZ3VhZ2UgZ292ZXJuaW5nIHBlcm1pc3Npb25zIGFuZAovLyBsaW1pdGF0aW9ucyB1bmRlciB0aGUgTGljZW5zZS4KCi8qKgogKiBAZmlsZW92ZXJ2aWV3IEhlbHBlcnMgZm9yIGdvb2dsZS5jb2xhYiBQeXRob24gbW9kdWxlLgogKi8KKGZ1bmN0aW9uKHNjb3BlKSB7CmZ1bmN0aW9uIHNwYW4odGV4dCwgc3R5bGVBdHRyaWJ1dGVzID0ge30pIHsKICBjb25zdCBlbGVtZW50ID0gZG9jdW1lbnQuY3JlYXRlRWxlbWVudCgnc3BhbicpOwogIGVsZW1lbnQudGV4dENvbnRlbnQgPSB0ZXh0OwogIGZvciAoY29uc3Qga2V5IG9mIE9iamVjdC5rZXlzKHN0eWxlQXR0cmlidXRlcykpIHsKICAgIGVsZW1lbnQuc3R5bGVba2V5XSA9IHN0eWxlQXR0cmlidXRlc1trZXldOwogIH0KICByZXR1cm4gZWxlbWVudDsKfQoKLy8gTWF4IG51bWJlciBvZiBieXRlcyB3aGljaCB3aWxsIGJlIHVwbG9hZGVkIGF0IGEgdGltZS4KY29uc3QgTUFYX1BBWUxPQURfU0laRSA9IDEwMCAqIDEwMjQ7CgpmdW5jdGlvbiBfdXBsb2FkRmlsZXMoaW5wdXRJZCwgb3V0cHV0SWQpIHsKICBjb25zdCBzdGVwcyA9IHVwbG9hZEZpbGVzU3RlcChpbnB1dElkLCBvdXRwdXRJZCk7CiAgY29uc3Qgb3V0cHV0RWxlbWVudCA9IGRvY3VtZW50LmdldEVsZW1lbnRCeUlkKG91dHB1dElkKTsKICAvLyBDYWNoZSBzdGVwcyBvbiB0aGUgb3V0cHV0RWxlbWVudCB0byBtYWtlIGl0IGF2YWlsYWJsZSBmb3IgdGhlIG5leHQgY2FsbAogIC8vIHRvIHVwbG9hZEZpbGVzQ29udGludWUgZnJvbSBQeXRob24uCiAgb3V0cHV0RWxlbWVudC5zdGVwcyA9IHN0ZXBzOwoKICByZXR1cm4gX3VwbG9hZEZpbGVzQ29udGludWUob3V0cHV0SWQpOwp9CgovLyBUaGlzIGlzIHJvdWdobHkgYW4gYXN5bmMgZ2VuZXJhdG9yIChub3Qgc3VwcG9ydGVkIGluIHRoZSBicm93c2VyIHlldCksCi8vIHdoZXJlIHRoZXJlIGFyZSBtdWx0aXBsZSBhc3luY2hyb25vdXMgc3RlcHMgYW5kIHRoZSBQeXRob24gc2lkZSBpcyBnb2luZwovLyB0byBwb2xsIGZvciBjb21wbGV0aW9uIG9mIGVhY2ggc3RlcC4KLy8gVGhpcyB1c2VzIGEgUHJvbWlzZSB0byBibG9jayB0aGUgcHl0aG9uIHNpZGUgb24gY29tcGxldGlvbiBvZiBlYWNoIHN0ZXAsCi8vIHRoZW4gcGFzc2VzIHRoZSByZXN1bHQgb2YgdGhlIHByZXZpb3VzIHN0ZXAgYXMgdGhlIGlucHV0IHRvIHRoZSBuZXh0IHN0ZXAuCmZ1bmN0aW9uIF91cGxvYWRGaWxlc0NvbnRpbnVlKG91dHB1dElkKSB7CiAgY29uc3Qgb3V0cHV0RWxlbWVudCA9IGRvY3VtZW50LmdldEVsZW1lbnRCeUlkKG91dHB1dElkKTsKICBjb25zdCBzdGVwcyA9IG91dHB1dEVsZW1lbnQuc3RlcHM7CgogIGNvbnN0IG5leHQgPSBzdGVwcy5uZXh0KG91dHB1dEVsZW1lbnQubGFzdFByb21pc2VWYWx1ZSk7CiAgcmV0dXJuIFByb21pc2UucmVzb2x2ZShuZXh0LnZhbHVlLnByb21pc2UpLnRoZW4oKHZhbHVlKSA9PiB7CiAgICAvLyBDYWNoZSB0aGUgbGFzdCBwcm9taXNlIHZhbHVlIHRvIG1ha2UgaXQgYXZhaWxhYmxlIHRvIHRoZSBuZXh0CiAgICAvLyBzdGVwIG9mIHRoZSBnZW5lcmF0b3IuCiAgICBvdXRwdXRFbGVtZW50Lmxhc3RQcm9taXNlVmFsdWUgPSB2YWx1ZTsKICAgIHJldHVybiBuZXh0LnZhbHVlLnJlc3BvbnNlOwogIH0pOwp9CgovKioKICogR2VuZXJhdG9yIGZ1bmN0aW9uIHdoaWNoIGlzIGNhbGxlZCBiZXR3ZWVuIGVhY2ggYXN5bmMgc3RlcCBvZiB0aGUgdXBsb2FkCiAqIHByb2Nlc3MuCiAqIEBwYXJhbSB7c3RyaW5nfSBpbnB1dElkIEVsZW1lbnQgSUQgb2YgdGhlIGlucHV0IGZpbGUgcGlja2VyIGVsZW1lbnQuCiAqIEBwYXJhbSB7c3RyaW5nfSBvdXRwdXRJZCBFbGVtZW50IElEIG9mIHRoZSBvdXRwdXQgZGlzcGxheS4KICogQHJldHVybiB7IUl0ZXJhYmxlPCFPYmplY3Q+fSBJdGVyYWJsZSBvZiBuZXh0IHN0ZXBzLgogKi8KZnVuY3Rpb24qIHVwbG9hZEZpbGVzU3RlcChpbnB1dElkLCBvdXRwdXRJZCkgewogIGNvbnN0IGlucHV0RWxlbWVudCA9IGRvY3VtZW50LmdldEVsZW1lbnRCeUlkKGlucHV0SWQpOwogIGlucHV0RWxlbWVudC5kaXNhYmxlZCA9IGZhbHNlOwoKICBjb25zdCBvdXRwdXRFbGVtZW50ID0gZG9jdW1lbnQuZ2V0RWxlbWVudEJ5SWQob3V0cHV0SWQpOwogIG91dHB1dEVsZW1lbnQuaW5uZXJIVE1MID0gJyc7CgogIGNvbnN0IHBpY2tlZFByb21pc2UgPSBuZXcgUHJvbWlzZSgocmVzb2x2ZSkgPT4gewogICAgaW5wdXRFbGVtZW50LmFkZEV2ZW50TGlzdGVuZXIoJ2NoYW5nZScsIChlKSA9PiB7CiAgICAgIHJlc29sdmUoZS50YXJnZXQuZmlsZXMpOwogICAgfSk7CiAgfSk7CgogIGNvbnN0IGNhbmNlbCA9IGRvY3VtZW50LmNyZWF0ZUVsZW1lbnQoJ2J1dHRvbicpOwogIGlucHV0RWxlbWVudC5wYXJlbnRFbGVtZW50LmFwcGVuZENoaWxkKGNhbmNlbCk7CiAgY2FuY2VsLnRleHRDb250ZW50ID0gJ0NhbmNlbCB1cGxvYWQnOwogIGNvbnN0IGNhbmNlbFByb21pc2UgPSBuZXcgUHJvbWlzZSgocmVzb2x2ZSkgPT4gewogICAgY2FuY2VsLm9uY2xpY2sgPSAoKSA9PiB7CiAgICAgIHJlc29sdmUobnVsbCk7CiAgICB9OwogIH0pOwoKICAvLyBXYWl0IGZvciB0aGUgdXNlciB0byBwaWNrIHRoZSBmaWxlcy4KICBjb25zdCBmaWxlcyA9IHlpZWxkIHsKICAgIHByb21pc2U6IFByb21pc2UucmFjZShbcGlja2VkUHJvbWlzZSwgY2FuY2VsUHJvbWlzZV0pLAogICAgcmVzcG9uc2U6IHsKICAgICAgYWN0aW9uOiAnc3RhcnRpbmcnLAogICAgfQogIH07CgogIGNhbmNlbC5yZW1vdmUoKTsKCiAgLy8gRGlzYWJsZSB0aGUgaW5wdXQgZWxlbWVudCBzaW5jZSBmdXJ0aGVyIHBpY2tzIGFyZSBub3QgYWxsb3dlZC4KICBpbnB1dEVsZW1lbnQuZGlzYWJsZWQgPSB0cnVlOwoKICBpZiAoIWZpbGVzKSB7CiAgICByZXR1cm4gewogICAgICByZXNwb25zZTogewogICAgICAgIGFjdGlvbjogJ2NvbXBsZXRlJywKICAgICAgfQogICAgfTsKICB9CgogIGZvciAoY29uc3QgZmlsZSBvZiBmaWxlcykgewogICAgY29uc3QgbGkgPSBkb2N1bWVudC5jcmVhdGVFbGVtZW50KCdsaScpOwogICAgbGkuYXBwZW5kKHNwYW4oZmlsZS5uYW1lLCB7Zm9udFdlaWdodDogJ2JvbGQnfSkpOwogICAgbGkuYXBwZW5kKHNwYW4oCiAgICAgICAgYCgke2ZpbGUudHlwZSB8fCAnbi9hJ30pIC0gJHtmaWxlLnNpemV9IGJ5dGVzLCBgICsKICAgICAgICBgbGFzdCBtb2RpZmllZDogJHsKICAgICAgICAgICAgZmlsZS5sYXN0TW9kaWZpZWREYXRlID8gZmlsZS5sYXN0TW9kaWZpZWREYXRlLnRvTG9jYWxlRGF0ZVN0cmluZygpIDoKICAgICAgICAgICAgICAgICAgICAgICAgICAgICAgICAgICAgJ24vYSd9IC0gYCkpOwogICAgY29uc3QgcGVyY2VudCA9IHNwYW4oJzAlIGRvbmUnKTsKICAgIGxpLmFwcGVuZENoaWxkKHBlcmNlbnQpOwoKICAgIG91dHB1dEVsZW1lbnQuYXBwZW5kQ2hpbGQobGkpOwoKICAgIGNvbnN0IGZpbGVEYXRhUHJvbWlzZSA9IG5ldyBQcm9taXNlKChyZXNvbHZlKSA9PiB7CiAgICAgIGNvbnN0IHJlYWRlciA9IG5ldyBGaWxlUmVhZGVyKCk7CiAgICAgIHJlYWRlci5vbmxvYWQgPSAoZSkgPT4gewogICAgICAgIHJlc29sdmUoZS50YXJnZXQucmVzdWx0KTsKICAgICAgfTsKICAgICAgcmVhZGVyLnJlYWRBc0FycmF5QnVmZmVyKGZpbGUpOwogICAgfSk7CiAgICAvLyBXYWl0IGZvciB0aGUgZGF0YSB0byBiZSByZWFkeS4KICAgIGxldCBmaWxlRGF0YSA9IHlpZWxkIHsKICAgICAgcHJvbWlzZTogZmlsZURhdGFQcm9taXNlLAogICAgICByZXNwb25zZTogewogICAgICAgIGFjdGlvbjogJ2NvbnRpbnVlJywKICAgICAgfQogICAgfTsKCiAgICAvLyBVc2UgYSBjaHVua2VkIHNlbmRpbmcgdG8gYXZvaWQgbWVzc2FnZSBzaXplIGxpbWl0cy4gU2VlIGIvNjIxMTU2NjAuCiAgICBsZXQgcG9zaXRpb24gPSAwOwogICAgd2hpbGUgKHBvc2l0aW9uIDwgZmlsZURhdGEuYnl0ZUxlbmd0aCkgewogICAgICBjb25zdCBsZW5ndGggPSBNYXRoLm1pbihmaWxlRGF0YS5ieXRlTGVuZ3RoIC0gcG9zaXRpb24sIE1BWF9QQVlMT0FEX1NJWkUpOwogICAgICBjb25zdCBjaHVuayA9IG5ldyBVaW50OEFycmF5KGZpbGVEYXRhLCBwb3NpdGlvbiwgbGVuZ3RoKTsKICAgICAgcG9zaXRpb24gKz0gbGVuZ3RoOwoKICAgICAgY29uc3QgYmFzZTY0ID0gYnRvYShTdHJpbmcuZnJvbUNoYXJDb2RlLmFwcGx5KG51bGwsIGNodW5rKSk7CiAgICAgIHlpZWxkIHsKICAgICAgICByZXNwb25zZTogewogICAgICAgICAgYWN0aW9uOiAnYXBwZW5kJywKICAgICAgICAgIGZpbGU6IGZpbGUubmFtZSwKICAgICAgICAgIGRhdGE6IGJhc2U2NCwKICAgICAgICB9LAogICAgICB9OwogICAgICBwZXJjZW50LnRleHRDb250ZW50ID0KICAgICAgICAgIGAke01hdGgucm91bmQoKHBvc2l0aW9uIC8gZmlsZURhdGEuYnl0ZUxlbmd0aCkgKiAxMDApfSUgZG9uZWA7CiAgICB9CiAgfQoKICAvLyBBbGwgZG9uZS4KICB5aWVsZCB7CiAgICByZXNwb25zZTogewogICAgICBhY3Rpb246ICdjb21wbGV0ZScsCiAgICB9CiAgfTsKfQoKc2NvcGUuZ29vZ2xlID0gc2NvcGUuZ29vZ2xlIHx8IHt9OwpzY29wZS5nb29nbGUuY29sYWIgPSBzY29wZS5nb29nbGUuY29sYWIgfHwge307CnNjb3BlLmdvb2dsZS5jb2xhYi5fZmlsZXMgPSB7CiAgX3VwbG9hZEZpbGVzLAogIF91cGxvYWRGaWxlc0NvbnRpbnVlLAp9Owp9KShzZWxmKTsK",
              "ok": true,
              "headers": [
                [
                  "content-type",
                  "application/javascript"
                ]
              ],
              "status": 200,
              "status_text": ""
            }
          },
          "base_uri": "https://localhost:8080/",
          "height": 73
        },
        "id": "83P3OqOKpPwD",
        "outputId": "910a6760-63e7-4f52-a4bb-6c57f5e29806"
      },
      "source": [
        "from google.colab import files \r\n",
        "#please use this cell to upload the data file in case you are using google colab to run the file\r\n",
        "  \r\n",
        "uploaded = files.upload()\r\n",
        "\r\n"
      ],
      "execution_count": 119,
      "outputs": [
        {
          "output_type": "display_data",
          "data": {
            "text/html": [
              "\n",
              "     <input type=\"file\" id=\"files-805d0347-8616-4118-bc65-ce24ce716d7a\" name=\"files[]\" multiple disabled\n",
              "        style=\"border:none\" />\n",
              "     <output id=\"result-805d0347-8616-4118-bc65-ce24ce716d7a\">\n",
              "      Upload widget is only available when the cell has been executed in the\n",
              "      current browser session. Please rerun this cell to enable.\n",
              "      </output>\n",
              "      <script src=\"/nbextensions/google.colab/files.js\"></script> "
            ],
            "text/plain": [
              "<IPython.core.display.HTML object>"
            ]
          },
          "metadata": {
            "tags": []
          }
        },
        {
          "output_type": "stream",
          "text": [
            "Saving action_1_signal_raw.data to action_1_signal_raw (2).data\n"
          ],
          "name": "stdout"
        }
      ]
    },
    {
      "cell_type": "code",
      "metadata": {
        "colab": {
          "base_uri": "https://localhost:8080/"
        },
        "id": "m5jhRJIvpquT",
        "outputId": "ac3f73eb-011e-4520-8fe1-0333ed07f17a"
      },
      "source": [
        "\r\n",
        "df = pd.read_csv(io.StringIO(uploaded['action_1_signal_raw.data'].decode('utf-8'))) #please provide a path to the file\r\n",
        "print('Raw DataFrame') \r\n",
        "print('******************************************************************')\r\n",
        "print(df)\r\n"
      ],
      "execution_count": 121,
      "outputs": [
        {
          "output_type": "stream",
          "text": [
            "Raw DataFrame\n",
            "******************************************************************\n",
            "      Time (seconds)         f0         f1  ...        f16        f17        f18\n",
            "0           0.025001  30.360140  17.579988  ...  29.765759  10.876992  26.017893\n",
            "1           0.049414  32.726293  25.167735  ...  60.385098  23.847597  18.236608\n",
            "2           0.073827  21.150129  18.172881  ...  20.868706  13.251215  21.493155\n",
            "3           0.098240  19.170769  13.792303  ...  40.029688  41.862798  18.395882\n",
            "4           0.122652  29.377692  27.293459  ...  26.881990  17.811212  31.782183\n",
            "...              ...        ...        ...  ...        ...        ...        ...\n",
            "1280       31.273544  21.119562  17.921429  ...  30.636521  28.259410  19.226922\n",
            "1281       31.297957  35.416309  23.966281  ...  30.850540  18.101805  17.181565\n",
            "1282       31.322369  12.316860  24.217272  ...  40.946000  25.173406  13.495703\n",
            "1283       31.346782  18.186439  14.902867  ...  15.805895  10.803608  13.626778\n",
            "1284       31.371195  19.676927  18.851258  ...  27.167778  17.561413  27.057797\n",
            "\n",
            "[1285 rows x 20 columns]\n"
          ],
          "name": "stdout"
        }
      ]
    },
    {
      "cell_type": "code",
      "metadata": {
        "id": "VQ6N1njPpupV"
      },
      "source": [
        "\r\n",
        "#saving the dataframe in a csv file\r\n",
        "df.to_csv('action_signal_raw.csv', index = None) \r\n",
        "\r\n",
        "\r\n"
      ],
      "execution_count": 122,
      "outputs": []
    },
    {
      "cell_type": "code",
      "metadata": {
        "colab": {
          "base_uri": "https://localhost:8080/"
        },
        "id": "EhVtHGuspzCh",
        "outputId": "1507283b-d1e7-4b48-bc19-53696bc7a2b9"
      },
      "source": [
        "#Performing mean operation of features row wise in order to convert into a single feature column\r\n",
        "data = df.iloc[:,1:len(df.columns)+1] #selecting the columns(features) for performing row wise mean operation\r\n",
        "average = data.mean(axis=1) #finding the row wise mean\r\n",
        "new_data = {'Time(Seconds)':df['Time (seconds)'],\r\n",
        "            'f0':average}\r\n",
        "new_df = pd.DataFrame(new_data)\r\n",
        "print('Mean of the sensor data ')\r\n",
        "print('*****************************************************************************')\r\n",
        "print(new_df)\r\n",
        "\r\n"
      ],
      "execution_count": 123,
      "outputs": [
        {
          "output_type": "stream",
          "text": [
            "Mean of the sensor data \n",
            "*****************************************************************************\n",
            "      Time(Seconds)         f0\n",
            "0          0.025001  22.017106\n",
            "1          0.049414  25.195539\n",
            "2          0.073827  20.222812\n",
            "3          0.098240  27.717170\n",
            "4          0.122652  26.836969\n",
            "...             ...        ...\n",
            "1280      31.273544  25.841214\n",
            "1281      31.297957  28.558043\n",
            "1282      31.322369  26.405433\n",
            "1283      31.346782  21.207625\n",
            "1284      31.371195  24.452137\n",
            "\n",
            "[1285 rows x 2 columns]\n"
          ],
          "name": "stdout"
        }
      ]
    },
    {
      "cell_type": "code",
      "metadata": {
        "colab": {
          "base_uri": "https://localhost:8080/"
        },
        "id": "6OFUzMYPqJdV",
        "outputId": "89e2c5df-2e6f-4d07-803d-74a9b9fd5b63"
      },
      "source": [
        "#preprocessing the data \r\n",
        "column = new_df['f0']\r\n",
        "minimum=column.min()\r\n",
        "maximum=column.max()\r\n",
        "new_df['f0'] = new_df['f0']/maximum\r\n",
        "print('Below is the mean value of the standardised data')\r\n",
        "print('*********************************')\r\n",
        "print(new_df)\r\n"
      ],
      "execution_count": 124,
      "outputs": [
        {
          "output_type": "stream",
          "text": [
            "Below is the mean value of the standardised data\n",
            "*********************************\n",
            "      Time(Seconds)        f0\n",
            "0          0.025001  0.020997\n",
            "1          0.049414  0.024029\n",
            "2          0.073827  0.019286\n",
            "3          0.098240  0.026433\n",
            "4          0.122652  0.025594\n",
            "...             ...       ...\n",
            "1280      31.273544  0.024644\n",
            "1281      31.297957  0.027235\n",
            "1282      31.322369  0.025182\n",
            "1283      31.346782  0.020225\n",
            "1284      31.371195  0.023320\n",
            "\n",
            "[1285 rows x 2 columns]\n"
          ],
          "name": "stdout"
        }
      ]
    },
    {
      "cell_type": "code",
      "metadata": {
        "id": "5HtbnQtXqPPq"
      },
      "source": [
        "#performing clustering for categorizing the data based on the sensor values\r\n",
        "#finding optimal value for number of clusters using within cluster sum of squares \r\n",
        "\r\n",
        "data = new_df.iloc[:,1:]\r\n",
        "wcss = [] #empty list for calculating wcss after each iter\r\n",
        "for i in range(1,50):\r\n",
        "  kmeans =KMeans(i) \r\n",
        "  kmeans.fit(data)  \r\n",
        "  wcss_iter = kmeans.inertia_\r\n",
        "  wcss.append(wcss_iter)"
      ],
      "execution_count": 125,
      "outputs": []
    },
    {
      "cell_type": "code",
      "metadata": {
        "colab": {
          "base_uri": "https://localhost:8080/"
        },
        "id": "V_kSOiKGsRcT",
        "outputId": "c8e8b2e7-4fbb-4017-de35-19d810a825ac"
      },
      "source": [
        "print('below is the list of the within cluster sum of squares ')\r\n",
        "print(wcss)"
      ],
      "execution_count": 126,
      "outputs": [
        {
          "output_type": "stream",
          "text": [
            "below is the list of the within cluster sum of squares \n",
            "[31.05427324132851, 6.8477724034088645, 3.9659542240050194, 2.279241292462416, 1.4609855987967042, 1.0239771407857283, 0.7166714850907776, 0.4946072617111933, 0.3989045115694888, 0.3143436756077704, 0.2454002481284856, 0.20818052641532225, 0.18022311160850193, 0.1570551962718484, 0.1379098505936585, 0.12228139134390685, 0.10645051647459683, 0.08811466278211172, 0.07707320998568173, 0.07133323923787198, 0.06602807425507408, 0.058390550747653085, 0.05301523348098676, 0.049171765410878615, 0.04667168060073462, 0.04196352288922128, 0.03872733774883736, 0.03663544363472042, 0.03379715755235637, 0.031928264785927404, 0.02961737788601779, 0.02723709360231403, 0.025920228920379592, 0.02396328619574783, 0.022759458686136096, 0.021074714964484834, 0.01964028520182267, 0.018515529791408428, 0.017678414398577966, 0.016262379022331526, 0.015045121909865275, 0.014613332660154056, 0.013620520574756793, 0.012579450275768747, 0.01171303322010151, 0.011596773042752013, 0.011054120420485194, 0.010453476622385924, 0.009944951583104458]\n"
          ],
          "name": "stdout"
        }
      ]
    },
    {
      "cell_type": "code",
      "metadata": {
        "colab": {
          "base_uri": "https://localhost:8080/",
          "height": 313
        },
        "id": "rvW0HDJRsiRv",
        "outputId": "33da2815-f02a-4dfc-f730-89b9cd654eee"
      },
      "source": [
        "# We now use the elbow method to predict the number of clusters requires\r\n",
        "number_of_clusters = range(1,50)\r\n",
        "plt.plot(number_of_clusters,wcss)\r\n",
        "plt.title('The Elbow method')\r\n",
        "plt.xlabel('Number of clusters')\r\n",
        "plt.ylabel('Within-cluster-sum-of-squares')"
      ],
      "execution_count": 127,
      "outputs": [
        {
          "output_type": "execute_result",
          "data": {
            "text/plain": [
              "Text(0, 0.5, 'Within-cluster-sum-of-squares')"
            ]
          },
          "metadata": {
            "tags": []
          },
          "execution_count": 127
        },
        {
          "output_type": "display_data",
          "data": {
            "image/png": "[encoded data removed]",
            "text/plain": [
              "<Figure size 432x288 with 1 Axes>"
            ]
          },
          "metadata": {
            "tags": [],
            "needs_background": "light"
          }
        }
      ]
    },
    {
      "cell_type": "code",
      "metadata": {
        "colab": {
          "base_uri": "https://localhost:8080/"
        },
        "id": "nD6P1rERtyGf",
        "outputId": "cc1e43ec-3268-42ed-9d59-c533e6c23584"
      },
      "source": [
        "#results from clustering \r\n",
        "kmeans_new = KMeans(7)\r\n",
        "identified_clusters = kmeans_new.fit_predict(data) #predicting dependent of time\r\n",
        "new_df['Cluster'] = identified_clusters\r\n",
        "print('identified cluster groups labels')\r\n",
        "print('************************************')\r\n",
        "print(new_df)\r\n",
        "print('************************************')\r\n"
      ],
      "execution_count": 128,
      "outputs": [
        {
          "output_type": "stream",
          "text": [
            "identified cluster groups labels\n",
            "************************************\n",
            "      Time(Seconds)        f0  Cluster\n",
            "0          0.025001  0.020997        5\n",
            "1          0.049414  0.024029        5\n",
            "2          0.073827  0.019286        5\n",
            "3          0.098240  0.026433        5\n",
            "4          0.122652  0.025594        5\n",
            "...             ...       ...      ...\n",
            "1280      31.273544  0.024644        5\n",
            "1281      31.297957  0.027235        5\n",
            "1282      31.322369  0.025182        5\n",
            "1283      31.346782  0.020225        5\n",
            "1284      31.371195  0.023320        5\n",
            "\n",
            "[1285 rows x 3 columns]\n",
            "************************************\n"
          ],
          "name": "stdout"
        }
      ]
    },
    {
      "cell_type": "code",
      "metadata": {
        "colab": {
          "base_uri": "https://localhost:8080/"
        },
        "id": "uWEL3tGjuLfL",
        "outputId": "59f730d5-0c78-4933-8b5d-6b0ece9bbe61"
      },
      "source": [
        "# Grouping of clusters\r\n",
        "total_time= [] #dictionary for storing the total time\r\n",
        "time_length = [] # dictionary for storing the average time length\r\n",
        "label_list=[]\r\n",
        "for i in range(len(length)):\r\n",
        "  label_list.append('action')\r\n",
        "  lt= []\r\n",
        "  sum = 0\r\n",
        "  index = new_df[new_df['Cluster'] == i].index.tolist()\r\n",
        "  for j in index :\r\n",
        "    sum = sum + new_df['Time(Seconds)'][j] # total time in a cluster \r\n",
        "    lt.append(new_df['Time(Seconds)'][j])\r\n",
        "  time_length.append(mean(lt)) #performing standard deviation in order to find the standard length/duration of the time of a cluster\r\n",
        "  total_time.append(sum)\r\n",
        "  index_list.append(index)\r\n",
        "\r\n",
        "output_data = {'Time(Seconds)':total_time,'Length(Seconds)':time_length,'Label(String)':label_list}\r\n",
        "op_df = pd.DataFrame(output_data)\r\n",
        "print('Output DataFrame')\r\n",
        "print('***********************************************************************************')\r\n",
        "op_df.sort_values(\"Time(Seconds)\", axis = 0, ascending = True, \r\n",
        "                 inplace = True, na_position ='last')\r\n",
        "print(op_df)"
      ],
      "execution_count": 132,
      "outputs": [
        {
          "output_type": "stream",
          "text": [
            "Output DataFrame\n",
            "***********************************************************************************\n",
            "   Time(Seconds)  Length(Seconds) Label(String)\n",
            "4      62.941221         7.867653        action\n",
            "2     591.254534        15.559330        action\n",
            "3    1031.362777        15.626709        action\n",
            "0    1080.657174        14.603475        action\n",
            "6    2927.316870        12.839109        action\n",
            "1    6718.621264        16.923479        action\n",
            "5    7759.902154        16.371102        action\n"
          ],
          "name": "stdout"
        }
      ]
    }
  ]
}